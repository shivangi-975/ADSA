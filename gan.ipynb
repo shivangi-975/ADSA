{
  "nbformat": 4,
  "nbformat_minor": 0,
  "metadata": {
    "colab": {
      "name": "gan.ipynb",
      "provenance": [],
      "authorship_tag": "ABX9TyNM0tGESQERyP8OIvKy0H62",
      "include_colab_link": true
    },
    "kernelspec": {
      "name": "python3",
      "display_name": "Python 3"
    },
    "language_info": {
      "name": "python"
    }
  },
  "cells": [
    {
      "cell_type": "markdown",
      "metadata": {
        "id": "view-in-github",
        "colab_type": "text"
      },
      "source": [
        "<a href=\"https://colab.research.google.com/github/shivangi-975/Advanced-Data-Structures-Templates/blob/main/gan.ipynb\" target=\"_parent\"><img src=\"https://colab.research.google.com/assets/colab-badge.svg\" alt=\"Open In Colab\"/></a>"
      ]
    },
    {
      "cell_type": "code",
      "metadata": {
        "colab": {
          "base_uri": "https://localhost:8080/"
        },
        "id": "M1EcXL72HO6w",
        "outputId": "b9ce1cfe-bbd7-4733-d037-44e6f108d683"
      },
      "source": [
        "!git clone https://github.com/LantaoYu/SeqGAN"
      ],
      "execution_count": 1,
      "outputs": [
        {
          "output_type": "stream",
          "text": [
            "Cloning into 'SeqGAN'...\n",
            "remote: Enumerating objects: 187, done.\u001b[K\n",
            "remote: Total 187 (delta 0), reused 0 (delta 0), pack-reused 187\u001b[K\n",
            "Receiving objects: 100% (187/187), 4.12 MiB | 12.29 MiB/s, done.\n",
            "Resolving deltas: 100% (89/89), done.\n"
          ],
          "name": "stdout"
        }
      ]
    },
    {
      "cell_type": "code",
      "metadata": {
        "id": "MaLkzI96HRhU"
      },
      "source": [
        "!cd /content/SeqGAN"
      ],
      "execution_count": 2,
      "outputs": []
    },
    {
      "cell_type": "code",
      "metadata": {
        "id": "gBV2-eGHOon5"
      },
      "source": [
        "!cd /content/SeqGAN/save"
      ],
      "execution_count": 20,
      "outputs": []
    },
    {
      "cell_type": "code",
      "metadata": {
        "colab": {
          "base_uri": "https://localhost:8080/"
        },
        "id": "nfqp_W46HVL2",
        "outputId": "0adda0e6-2c41-4e1f-d53a-2c34fac5783f"
      },
      "source": [
        "!python2 /content/SeqGAN/sequence_gan.py"
      ],
      "execution_count": 21,
      "outputs": [
        {
          "output_type": "stream",
          "text": [
            "WARNING: Logging before flag parsing goes to stderr.\n",
            "W0402 20:16:24.344860 140627077678976 deprecation.py:323] From /usr/local/lib/python2.7/dist-packages/tensorflow_core/python/compat/v2_compat.py:88: disable_resource_variables (from tensorflow.python.ops.variable_scope) is deprecated and will be removed in a future version.\n",
            "Instructions for updating:\n",
            "non-resource variables are not supported in the long term\n",
            "W0402 20:16:24.466744 140627077678976 deprecation.py:323] From /content/SeqGAN/generator.py:52: multinomial (from tensorflow.python.ops.random_ops) is deprecated and will be removed in a future version.\n",
            "Instructions for updating:\n",
            "Use `tf.random.categorical` instead.\n",
            "W0402 20:16:24.537159 140627077678976 deprecation.py:323] From /content/SeqGAN/generator.py:95: to_int32 (from tensorflow.python.ops.math_ops) is deprecated and will be removed in a future version.\n",
            "Instructions for updating:\n",
            "Use `tf.cast` instead.\n",
            "W0402 20:16:25.800728 140627077678976 deprecation.py:506] From /content/SeqGAN/discriminator.py:116: calling dropout (from tensorflow.python.ops.nn_ops) with keep_prob is deprecated and will be removed in a future version.\n",
            "Instructions for updating:\n",
            "Please use `rate` instead of `keep_prob`. Rate should be set to `rate = 1 - keep_prob`.\n",
            "W0402 20:16:25.816148 140627077678976 deprecation.py:323] From /content/SeqGAN/discriminator.py:130: softmax_cross_entropy_with_logits (from tensorflow.python.ops.nn_ops) is deprecated and will be removed in a future version.\n",
            "Instructions for updating:\n",
            "\n",
            "Future major versions of TensorFlow will allow gradients to flow\n",
            "into the labels input on backprop by default.\n",
            "\n",
            "See `tf.nn.softmax_cross_entropy_with_logits_v2`.\n",
            "\n",
            "2021-04-02 20:16:26.334328: I tensorflow/core/platform/profile_utils/cpu_utils.cc:94] CPU Frequency: 2250000000 Hz\n",
            "2021-04-02 20:16:26.334596: I tensorflow/compiler/xla/service/service.cc:168] XLA service 0x55c10625cd80 initialized for platform Host (this does not guarantee that XLA will be used). Devices:\n",
            "2021-04-02 20:16:26.334630: I tensorflow/compiler/xla/service/service.cc:176]   StreamExecutor device (0): Host, Default Version\n",
            "2021-04-02 20:16:26.336940: I tensorflow/stream_executor/platform/default/dso_loader.cc:44] Successfully opened dynamic library libcuda.so.1\n",
            "2021-04-02 20:16:26.349573: E tensorflow/stream_executor/cuda/cuda_driver.cc:351] failed call to cuInit: CUDA_ERROR_NO_DEVICE: no CUDA-capable device is detected\n",
            "2021-04-02 20:16:26.349636: I tensorflow/stream_executor/cuda/cuda_diagnostics.cc:156] kernel driver does not appear to be running on this host (6449cba7148b): /proc/driver/nvidia/version does not exist\n",
            "Traceback (most recent call last):\n",
            "  File \"/content/SeqGAN/sequence_gan.py\", line 183, in <module>\n",
            "    main()\n",
            "  File \"/content/SeqGAN/sequence_gan.py\", line 105, in main\n",
            "    generate_samples(sess, target_lstm, BATCH_SIZE, generated_num, positive_file)\n",
            "  File \"/content/SeqGAN/sequence_gan.py\", line 48, in generate_samples\n",
            "    with open(output_file, 'w') as fout:\n",
            "IOError: [Errno 2] No such file or directory: 'save/real_data.txt'\n"
          ],
          "name": "stdout"
        }
      ]
    },
    {
      "cell_type": "code",
      "metadata": {
        "id": "QBv5edP2HXwN"
      },
      "source": [
        ""
      ],
      "execution_count": 21,
      "outputs": []
    }
  ]
}